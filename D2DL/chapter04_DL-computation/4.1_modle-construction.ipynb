{
 "cells": [
  {
   "cell_type": "code",
   "metadata": {
    "cell_id": "00000-8a8f5326-5e46-4333-9b6b-0570c512f63b",
    "deepnote_to_be_reexecuted": false,
    "source_hash": "6e99c4f5",
    "execution_start": 1620445490614,
    "execution_millis": 0,
    "deepnote_cell_type": "code"
   },
   "source": "# 4.1 模型构造",
   "outputs": [],
   "execution_count": null
  },
  {
   "cell_type": "code",
   "metadata": {
    "cell_id": "00001-08a9dacd-f90c-4728-9e00-0512a06e5ca0",
    "deepnote_to_be_reexecuted": false,
    "source_hash": "389b933f",
    "execution_start": 1620445490620,
    "execution_millis": 437,
    "deepnote_cell_type": "code"
   },
   "source": "import torch\nfrom torch import nn\n\nclass MLP(nn.Module):\n    # 声明带有模型参数的层，这里声明了两个全连接层\n    def __init__(self,**kwargs):\n        # 调用MLP父类Module的构造函数来进行必要的初始化。这样在构造实例时还可以指定其他函数\n        # 参数，如“模型参数的访问、初始化和共享”一节将介绍的模型参数params\n        super(MLP,self).__init__(**kwargs)\n        self.hidden=nn.Linear(784,256)\n        self.act=nn.ReLU()\n        self.output=nn.Linear(256,10)\n\n        # 定义模型的前向计算，即如何根据输入x计算返回所需要的模型输出\n    def forward(self, x):\n        a = self.act(self.hidden(x))\n        return self.output(a)",
   "outputs": [],
   "execution_count": null
  },
  {
   "cell_type": "code",
   "metadata": {
    "tags": [],
    "cell_id": "00002-f4c9d578-8545-479b-8b30-838e97326283",
    "deepnote_to_be_reexecuted": false,
    "source_hash": "3ba84917",
    "execution_start": 1620445491062,
    "execution_millis": 84,
    "deepnote_cell_type": "code"
   },
   "source": "X=torch.rand(2,784)\nnet=MLP()\nprint(net)\n\nnet(X)",
   "outputs": [
    {
     "name": "stdout",
     "text": "MLP(\n  (hidden): Linear(in_features=784, out_features=256, bias=True)\n  (act): ReLU()\n  (output): Linear(in_features=256, out_features=10, bias=True)\n)\n",
     "output_type": "stream"
    },
    {
     "output_type": "execute_result",
     "execution_count": 3,
     "data": {
      "text/plain": "tensor([[-0.0828, -0.0179,  0.0477,  0.1050,  0.1137,  0.0760,  0.1607, -0.1172,\n         -0.1159,  0.0519],\n        [-0.0749, -0.0388, -0.0177,  0.1486,  0.0624,  0.1031,  0.0545, -0.1711,\n         -0.0307,  0.0192]], grad_fn=<AddmmBackward>)"
     },
     "metadata": {}
    }
   ],
   "execution_count": null
  },
  {
   "cell_type": "code",
   "metadata": {
    "cell_id": "00003-9e33cc52-b19e-4729-ac1f-6352a3a9632c",
    "deepnote_to_be_reexecuted": false,
    "source_hash": "d14499c8",
    "execution_start": 1620445491139,
    "execution_millis": 3,
    "deepnote_cell_type": "code"
   },
   "source": "#Define a complex network\nclass FancyMLP(nn.Module):\n    def __init__(self,**kwargs):\n        super(FancyMLP,self).__init__(**kwargs)\n        self.rand_weight=torch.rand((20,20),requires_grad=False)\n        self.linear=nn.Linear(20,20)\n    \n    def forward(self,x):\n        x=self.linear(x)\n        x=nn.functional.relu(torch.mm(x,self.rand_weight.data)+1)\n        x=self.linear(x)\n        while x.norm().item()>1:\n            x/=2\n        if x.norm().item()<0.8:\n            x*=10\n        return x.sum()",
   "outputs": [],
   "execution_count": null
  },
  {
   "cell_type": "code",
   "metadata": {
    "cell_id": "00004-57d4c1c0-82e1-4168-a8fc-2ec14f642dee",
    "deepnote_to_be_reexecuted": false,
    "source_hash": "b623e53d",
    "execution_start": 1620445491144,
    "execution_millis": 1,
    "deepnote_cell_type": "code"
   },
   "source": "",
   "outputs": [],
   "execution_count": null
  },
  {
   "cell_type": "markdown",
   "source": "<a style='text-decoration:none;line-height:16px;display:flex;color:#5B5B62;padding:10px;justify-content:end;' href='https://deepnote.com?utm_source=created-in-deepnote-cell&projectId=d7fbb927-f409-443e-9b59-e37fbc464df5' target=\"_blank\">\n<img alt='Created in deepnote.com' style='display:inline;max-height:16px;margin:0px;margin-right:7.5px;' src='data:image/svg+xml;base64,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' > </img>\nCreated in <span style='font-weight:600;margin-left:4px;'>Deepnote</span></a>",
   "metadata": {
    "tags": [],
    "created_in_deepnote_cell": true,
    "deepnote_cell_type": "markdown"
   }
  }
 ],
 "nbformat": 4,
 "nbformat_minor": 2,
 "metadata": {
  "language_info": {
   "codemirror_mode": {
    "name": "ipython",
    "version": 3
   },
   "file_extension": ".py",
   "mimetype": "text/x-python",
   "name": "python",
   "nbconvert_exporter": "python",
   "pygments_lexer": "ipython3",
   "version": "3.7.0-final"
  },
  "orig_nbformat": 2,
  "kernelspec": {
   "name": "python3",
   "display_name": "Python 3"
  },
  "deepnote_notebook_id": "44bf10cf-636c-4b1d-96c2-8f48e7e26256",
  "deepnote_execution_queue": [],
  "deepnote": {}
 }
}