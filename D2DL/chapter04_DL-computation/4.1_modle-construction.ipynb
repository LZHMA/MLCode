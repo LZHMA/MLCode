{
 "cells": [
  {
   "cell_type": "code",
   "execution_count": 1,
   "metadata": {},
   "outputs": [],
   "source": [
    "# 4.1 模型构造"
   ]
  },
  {
   "cell_type": "code",
   "execution_count": 2,
   "metadata": {},
   "outputs": [],
   "source": [
    "import torch\n",
    "from torch import nn\n",
    "\n",
    "class MLP(nn.Module):\n",
    "    # 声明带有模型参数的层，这里声明了两个全连接层\n",
    "    def __init__(self,**kwargs):\n",
    "        # 调用MLP父类Module的构造函数来进行必要的初始化。这样在构造实例时还可以指定其他函数\n",
    "        # 参数，如“模型参数的访问、初始化和共享”一节将介绍的模型参数params\n",
    "        super(MLP,self).__init__(**kwargs)\n",
    "        self.hidden=nn.Linear(784,256)\n",
    "        self.act=nn.ReLU()\n",
    "        self.output=nn.Linear(256,10)\n",
    "\n",
    "        # 定义模型的前向计算，即如何根据输入x计算返回所需要的模型输出\n",
    "    def forward(self, x):\n",
    "        a = self.act(self.hidden(x))\n",
    "        return self.output(a)"
   ]
  },
  {
   "cell_type": "code",
   "execution_count": 5,
   "metadata": {
    "tags": []
   },
   "outputs": [
    {
     "output_type": "stream",
     "name": "stdout",
     "text": "MLP(\n  (hidden): Linear(in_features=784, out_features=256, bias=True)\n  (act): ReLU()\n  (output): Linear(in_features=256, out_features=10, bias=True)\n)\n"
    },
    {
     "output_type": "execute_result",
     "data": {
      "text/plain": "tensor([[-0.0169,  0.3529, -0.1907,  0.1290, -0.0387, -0.1071, -0.2347, -0.0794,\n         -0.0265, -0.1282],\n        [-0.0154,  0.3914, -0.0648,  0.1016,  0.1159, -0.0554, -0.2025, -0.0977,\n          0.0306, -0.1315]], grad_fn=<AddmmBackward>)"
     },
     "metadata": {},
     "execution_count": 5
    }
   ],
   "source": [
    "X=torch.rand(2,784)\n",
    "net=MLP()\n",
    "print(net)\n",
    "\n",
    "net(X)"
   ]
  },
  {
   "cell_type": "code",
   "execution_count": 10,
   "metadata": {},
   "outputs": [],
   "source": [
    "#Define a complex network\n",
    "class FancyMLP(nn.Module):\n",
    "    def __init__(self,**kwargs):\n",
    "        super(FancyMLP,self).__init__(**kwargs)\n",
    "        self.rand_weight=torch.rand((20,20),requires_grad=False)\n",
    "        self.linear=nn.Linear(20,20)\n",
    "    \n",
    "    def forward(self,x):\n",
    "        x=self.linear(x)\n",
    "        x=nn.functional.relu(torch.mm(x,self.rand_weight.data)+1)\n",
    "        x=self.linear(x)\n",
    "        while x.norm().item()>1:\n",
    "            x/=2\n",
    "        if x.norm().item()<0.8:\n",
    "            x*=10\n",
    "        return x.sum()"
   ]
  },
  {
   "cell_type": "code",
   "execution_count": null,
   "metadata": {},
   "outputs": [],
   "source": []
  }
 ],
 "metadata": {
  "language_info": {
   "codemirror_mode": {
    "name": "ipython",
    "version": 3
   },
   "file_extension": ".py",
   "mimetype": "text/x-python",
   "name": "python",
   "nbconvert_exporter": "python",
   "pygments_lexer": "ipython3",
   "version": "3.7.0-final"
  },
  "orig_nbformat": 2,
  "kernelspec": {
   "name": "python3",
   "display_name": "Python 3"
  }
 },
 "nbformat": 4,
 "nbformat_minor": 2
}