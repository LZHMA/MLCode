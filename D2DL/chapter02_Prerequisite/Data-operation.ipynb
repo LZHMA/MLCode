{
 "cells": [
  {
   "cell_type": "code",
   "metadata": {
    "tags": [],
    "cell_id": "00000-7ce066ac-81ba-4163-8953-7bd98444ee36",
    "output_cleared": false,
    "source_hash": "34bfbfb4",
    "execution_millis": 233,
    "execution_start": 1604227337367,
    "deepnote_cell_type": "code"
   },
   "source": "import torch\nimport numpy as np\n\nx=torch.empty(5,3)\nprint(x)",
   "execution_count": null,
   "outputs": [
    {
     "name": "stdout",
     "text": "tensor([[-9.4809e+01,  4.5666e-41, -9.4810e+01],\n        [ 4.5666e-41, -9.4810e+01,  4.5666e-41],\n        [-9.4838e+01,  4.5666e-41, -9.2881e+02],\n        [ 4.5666e-41, -9.4622e+01,  4.5666e-41],\n        [-9.4623e+01,  4.5666e-41, -9.4623e+01]])\n",
     "output_type": "stream"
    }
   ]
  },
  {
   "cell_type": "code",
   "metadata": {
    "tags": [],
    "cell_id": "00001-0608854a-887e-403f-a87d-c9b1ec7d12e2",
    "output_cleared": false,
    "source_hash": "820e2d7",
    "execution_millis": 3,
    "execution_start": 1604227337603,
    "deepnote_cell_type": "code"
   },
   "source": "x=torch.rand(5,3)\nprint(x)",
   "execution_count": null,
   "outputs": [
    {
     "name": "stdout",
     "text": "tensor([[0.3689, 0.2479, 0.7734],\n        [0.0177, 0.7620, 0.6446],\n        [0.0132, 0.6920, 0.0879],\n        [0.1256, 0.0173, 0.0489],\n        [0.3708, 0.0688, 0.0145]])\n",
     "output_type": "stream"
    }
   ]
  },
  {
   "cell_type": "markdown",
   "source": " 创建一个5*3的long型全0的`Tensor`:",
   "metadata": {
    "tags": [],
    "cell_id": "00002-36f1bed2-dbfc-4683-9219-a0340c2ad39c",
    "output_cleared": false,
    "deepnote_cell_type": "markdown"
   }
  },
  {
   "cell_type": "code",
   "metadata": {
    "tags": [],
    "cell_id": "00002-96b0bb91-0d0c-44b6-a960-86747bd8b2ed",
    "output_cleared": false,
    "source_hash": "931045e1",
    "execution_millis": 5,
    "execution_start": 1604227337613,
    "deepnote_cell_type": "code"
   },
   "source": "\nx=torch.zeros(5,3,dtype=torch.long)\nx",
   "execution_count": null,
   "outputs": [
    {
     "output_type": "execute_result",
     "execution_count": 3,
     "data": {
      "text/plain": "tensor([[0, 0, 0],\n        [0, 0, 0],\n        [0, 0, 0],\n        [0, 0, 0],\n        [0, 0, 0]])"
     },
     "metadata": {}
    }
   ]
  },
  {
   "cell_type": "code",
   "metadata": {
    "tags": [],
    "cell_id": "00003-1e955156-9d34-4914-9fef-ba357bd148b6",
    "output_cleared": false,
    "source_hash": "24fb3303",
    "execution_millis": 4,
    "execution_start": 1604227337619,
    "deepnote_cell_type": "code"
   },
   "source": "# 直接根据数据创建：\nx=torch.tensor([5.5,3])\nx",
   "execution_count": null,
   "outputs": [
    {
     "output_type": "execute_result",
     "execution_count": 4,
     "data": {
      "text/plain": "tensor([5.5000, 3.0000])"
     },
     "metadata": {}
    }
   ]
  },
  {
   "cell_type": "markdown",
   "source": "通过现有的`Tensor`来创建，此方法会默认重用出入`Tensor`的一些属性，例如数据类型，除非指定数据类型",
   "metadata": {
    "tags": [],
    "cell_id": "00005-99779e13-54c4-482b-88b0-e3809520e2d4",
    "output_cleared": false,
    "deepnote_cell_type": "markdown"
   }
  },
  {
   "cell_type": "code",
   "metadata": {
    "tags": [],
    "cell_id": "00006-6ced1201-794f-4760-a991-13c7c188a657",
    "output_cleared": false,
    "source_hash": "7232c28e",
    "execution_millis": 0,
    "execution_start": 1604227337640,
    "deepnote_cell_type": "code"
   },
   "source": "x=x.new_ones(5,3,dtype=torch.float64)\nprint(x)\nx=torch.randn_like(x,dtype=torch.float)\nprint(x)",
   "execution_count": null,
   "outputs": [
    {
     "name": "stdout",
     "text": "tensor([[1., 1., 1.],\n        [1., 1., 1.],\n        [1., 1., 1.],\n        [1., 1., 1.],\n        [1., 1., 1.]], dtype=torch.float64)\ntensor([[ 1.1394,  0.3068, -0.5704],\n        [-1.5187, -0.0845, -0.0379],\n        [ 1.0616,  1.2340, -0.4193],\n        [-0.6699, -1.5956, -0.0672],\n        [-0.5874, -1.6367,  0.4315]])\n",
     "output_type": "stream"
    }
   ]
  },
  {
   "cell_type": "markdown",
   "source": "可以通过`shape`或者`size()`来获取`Tensor`的形状：\n> 返回的`torch.Size`其实就是一个`tuple`，支持所有`tuple`的操作",
   "metadata": {
    "tags": [],
    "cell_id": "00007-0cb99f72-1ca0-4da9-b308-b3ebfdc68a03",
    "output_cleared": false,
    "deepnote_cell_type": "markdown"
   }
  },
  {
   "cell_type": "code",
   "metadata": {
    "tags": [],
    "cell_id": "00008-32e81209-b44b-45d0-b4e0-01621d06f6ff",
    "output_cleared": false,
    "source_hash": "47066cb2",
    "execution_millis": 1,
    "execution_start": 1604227337640,
    "deepnote_cell_type": "code"
   },
   "source": "print(x.size())\nprint(x.shape)",
   "execution_count": null,
   "outputs": [
    {
     "name": "stdout",
     "text": "torch.Size([5, 3])\ntorch.Size([5, 3])\n",
     "output_type": "stream"
    }
   ]
  },
  {
   "cell_type": "code",
   "metadata": {
    "tags": [],
    "cell_id": "00009-f23d768f-0674-4efc-ac91-a2c5d30298d4",
    "output_cleared": false,
    "source_hash": "dc6ab94b",
    "execution_millis": 2,
    "execution_start": 1604227337641,
    "deepnote_cell_type": "code"
   },
   "source": "y=torch.rand(5,3)\n# 加法形式一\nprint(x+y)\n# 加法形式二\nprint(torch.add(x,y))\n# 可指定输出：\nresult=torch.empty(5,3)\ntorch.add(x,y,out=result)\nprint(result)\n# 加法形式三,inplace\ny.add_(x)\nprint(y)",
   "execution_count": null,
   "outputs": [
    {
     "name": "stdout",
     "text": "tensor([[ 1.4243,  0.8153,  0.3104],\n        [-1.0119,  0.1839,  0.8331],\n        [ 1.3431,  1.6235,  0.2781],\n        [-0.4831, -1.1814,  0.3586],\n        [ 0.2953, -1.2312,  0.4760]])\ntensor([[ 1.4243,  0.8153,  0.3104],\n        [-1.0119,  0.1839,  0.8331],\n        [ 1.3431,  1.6235,  0.2781],\n        [-0.4831, -1.1814,  0.3586],\n        [ 0.2953, -1.2312,  0.4760]])\ntensor([[ 1.4243,  0.8153,  0.3104],\n        [-1.0119,  0.1839,  0.8331],\n        [ 1.3431,  1.6235,  0.2781],\n        [-0.4831, -1.1814,  0.3586],\n        [ 0.2953, -1.2312,  0.4760]])\ntensor([[ 1.4243,  0.8153,  0.3104],\n        [-1.0119,  0.1839,  0.8331],\n        [ 1.3431,  1.6235,  0.2781],\n        [-0.4831, -1.1814,  0.3586],\n        [ 0.2953, -1.2312,  0.4760]])\n",
     "output_type": "stream"
    }
   ]
  },
  {
   "cell_type": "code",
   "metadata": {
    "tags": [],
    "cell_id": "00010-bad15f3e-f7be-417b-916f-72ff0ea7f432",
    "output_cleared": false,
    "source_hash": "fcbb19a2",
    "execution_millis": 5,
    "execution_start": 1604227337647,
    "deepnote_cell_type": "code"
   },
   "source": "# 用view()来改变Tensor形状\ny=x.view(15)\nz=x.view(-1,5)\nprint(x.shape,y.shape,z.shape)",
   "execution_count": null,
   "outputs": [
    {
     "name": "stdout",
     "text": "torch.Size([5, 3]) torch.Size([15]) torch.Size([3, 5])\n",
     "output_type": "stream"
    }
   ]
  },
  {
   "cell_type": "markdown",
   "source": "`view()`返回的新`Tensor`与源`Tensor`虽然有不同的`size`，但是共享数据，也即更改其中的一个，另一个也会跟着改变。（view仅仅是改变了对这个张量的观察角度，内部数据并未改变）\n如果想要返回一个真正的副本（不共享内存），推荐先用`clone()`创造一个副本，然后再用`view()`\n\n>使用`clone()`的另一个好处是会被记录在计算图中，即梯度回传到副本时也会传到源`Tensor`",
   "metadata": {
    "tags": [],
    "cell_id": "00011-1fea26bc-e81b-49a1-8fda-b8e0bc17b118",
    "output_cleared": false,
    "deepnote_cell_type": "markdown"
   }
  },
  {
   "cell_type": "markdown",
   "source": "### 广播机制\n当对两个形状不同的`Tensor`按元素运算时，可能会出发广播（broadcasting)机制：先适当复制元素使这两个`Tensor`形状相同后再按元素运算。",
   "metadata": {
    "tags": [],
    "cell_id": "00012-b81e4194-be19-4b4c-ad07-b509195b1ad1",
    "output_cleared": false,
    "deepnote_cell_type": "markdown"
   }
  },
  {
   "cell_type": "code",
   "metadata": {
    "tags": [],
    "cell_id": "00013-5ea892f5-8b12-4e2b-abbb-2a3b05d82b84",
    "output_cleared": false,
    "source_hash": "3436094b",
    "execution_millis": 3,
    "execution_start": 1604227337653,
    "deepnote_cell_type": "code"
   },
   "source": "x=torch.arange(1,3).view(1,2)\nprint(x)\ny=torch.arange(1,4).view(3,1)\nprint(y)\nprint(x+y)",
   "execution_count": null,
   "outputs": [
    {
     "name": "stdout",
     "text": "tensor([[1, 2]])\ntensor([[1],\n        [2],\n        [3]])\ntensor([[2, 3],\n        [3, 4],\n        [4, 5]])\n",
     "output_type": "stream"
    }
   ]
  },
  {
   "cell_type": "markdown",
   "source": "### `Tensor`和Numpy相互转换\n可以通过`numpy()`和`from_numpy()`将`Tensor`和Numpy中的数组相互转换。但是：**这两个函数所产生的`Tensor`和Numpy中的数组共享相同的内存**\n> 还有一个常用的将Numpy的array转换成`Tensor`的方法是`torch.tensor()`，此方法总是会进行数据拷贝。",
   "metadata": {
    "tags": [],
    "cell_id": "00014-0327bac2-2d2d-4d9d-aedd-4f1fafb9b478",
    "output_cleared": false,
    "deepnote_cell_type": "markdown"
   }
  },
  {
   "cell_type": "code",
   "metadata": {
    "tags": [],
    "cell_id": "00015-65c85e06-efda-4acf-ab1d-78c971849f9e",
    "output_cleared": false,
    "source_hash": "1d28e69c",
    "execution_millis": 5,
    "execution_start": 1604227337659,
    "deepnote_cell_type": "code"
   },
   "source": "a=torch.ones(5)\nb=a.numpy()\nprint(a,b)\na+=1\nprint(a,b)\nb+=1\nprint(a,b)",
   "execution_count": null,
   "outputs": [
    {
     "name": "stdout",
     "text": "tensor([1., 1., 1., 1., 1.]) [1. 1. 1. 1. 1.]\ntensor([2., 2., 2., 2., 2.]) [2. 2. 2. 2. 2.]\ntensor([3., 3., 3., 3., 3.]) [3. 3. 3. 3. 3.]\n",
     "output_type": "stream"
    }
   ]
  },
  {
   "cell_type": "code",
   "metadata": {
    "tags": [],
    "cell_id": "00016-02d489bc-416c-4f7e-a2c6-307a265144ac",
    "output_cleared": false,
    "source_hash": "e7ab8b78",
    "execution_millis": 8,
    "execution_start": 1604227454891,
    "deepnote_cell_type": "code"
   },
   "source": "a=np.ones(5)\nb=torch.from_numpy(a)\nprint(a,b)\n\na+=1\nprint(a,b)\nb+=1\nprint(a,b)\n\nc=torch.tensor(a)\na+=1\nprint(a,c)",
   "execution_count": null,
   "outputs": [
    {
     "name": "stdout",
     "text": "[1. 1. 1. 1. 1.] tensor([1., 1., 1., 1., 1.], dtype=torch.float64)\n[2. 2. 2. 2. 2.] tensor([2., 2., 2., 2., 2.], dtype=torch.float64)\n[3. 3. 3. 3. 3.] tensor([3., 3., 3., 3., 3.], dtype=torch.float64)\n[4. 4. 4. 4. 4.] tensor([3., 3., 3., 3., 3.], dtype=torch.float64)\n",
     "output_type": "stream"
    }
   ]
  },
  {
   "cell_type": "markdown",
   "source": "<a style='text-decoration:none;line-height:16px;display:flex;color:#5B5B62;padding:10px;justify-content:end;' href='https://deepnote.com?utm_source=created-in-deepnote-cell&projectId=d7fbb927-f409-443e-9b59-e37fbc464df5' target=\"_blank\">\n<img alt='Created in deepnote.com' style='display:inline;max-height:16px;margin:0px;margin-right:7.5px;' src='data:image/svg+xml;base64,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' > </img>\nCreated in <span style='font-weight:600;margin-left:4px;'>Deepnote</span></a>",
   "metadata": {
    "tags": [],
    "created_in_deepnote_cell": true,
    "deepnote_cell_type": "markdown"
   }
  }
 ],
 "nbformat": 4,
 "nbformat_minor": 2,
 "metadata": {
  "orig_nbformat": 2,
  "deepnote_notebook_id": "a9a4c066-78f5-4a32-8243-8d92dfaf2e09",
  "deepnote_execution_queue": [],
  "deepnote": {}
 }
}