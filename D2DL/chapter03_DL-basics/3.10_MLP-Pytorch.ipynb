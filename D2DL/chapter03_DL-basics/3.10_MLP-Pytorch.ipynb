{
 "metadata": {
  "language_info": {
   "codemirror_mode": {
    "name": "ipython",
    "version": 3
   },
   "file_extension": ".py",
   "mimetype": "text/x-python",
   "name": "python",
   "nbconvert_exporter": "python",
   "pygments_lexer": "ipython3",
   "version": 3
  },
  "orig_nbformat": 2
 },
 "nbformat": 4,
 "nbformat_minor": 2,
 "cells": [
  {
   "cell_type": "code",
   "execution_count": null,
   "metadata": {},
   "outputs": [],
   "source": [
    "import torch\n",
    "import numpy as np\n",
    "import matplotlib as plt\n",
    "\n",
    "batch_size=256\n",
    "train_iter,test_iter=d2dl.load_data_fashion_mnist(batch_size)\n",
    "\n",
    "num_inputs,num_outputs,num_hiddens=784,10,256\n",
    "\n",
    "net=nn.Sequential(\n",
    "    \n",
    ")"
   ]
  }
 ]
}